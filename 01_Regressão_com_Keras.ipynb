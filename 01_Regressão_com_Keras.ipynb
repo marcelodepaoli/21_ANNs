{
  "cells": [
    {
      "cell_type": "markdown",
      "metadata": {
        "id": "view-in-github",
        "colab_type": "text"
      },
      "source": [
        "<a href=\"https://colab.research.google.com/github/marcelodepaoli/21_ANNs/blob/main/01_Regress%C3%A3o_com_Keras.ipynb\" target=\"_parent\"><img src=\"https://colab.research.google.com/assets/colab-badge.svg\" alt=\"Open In Colab\"/></a>"
      ]
    },
    {
      "cell_type": "markdown",
      "metadata": {
        "id": "OA9FVgb5nwPZ"
      },
      "source": [
        "# Projeto de regressão com Keras\n",
        "\n",
        "Vamos agora aplicar nosso conhecimento a um conjunto de dados mais realista."
      ]
    },
    {
      "cell_type": "markdown",
      "metadata": {
        "id": "AyKDVz3GnwPa"
      },
      "source": [
        "## Os dados\n",
        "\n",
        "Utilizaremos um conjunto de dados do Kaggle:\n",
        "\n",
        "https://www.kaggle.com/harlfoxem/housesalesprediction\n",
        "\n",
        "#### Colunas de características (features)\n",
        "    \n",
        "* id - ID único para cada casa vendida\n",
        "* date - Data da venda da casa\n",
        "* price - Preço de cada casa vendida\n",
        "* bedrooms - Número de quartos\n",
        "* bathrooms - Número de banheiros, onde 0.5 corresponde a um quarto com banheiro, mas sem chuveiro\n",
        "* sqft_living - Metragem quadrada do espaço interior dos apartamentos\n",
        "* sqft_lot - Metragem quadrada do espaço\n",
        "* floors - Número de pisos\n",
        "* waterfront - Uma variável fictícia (dummy variable) para saber se o apartamento tinha vista para o mar ou não\n",
        "* view - Um índice de 0 a 4 de quão boa era a vista do imóvel\n",
        "* condition - Um índice de 1 a 5 sobre o estado do apartamento\n",
        "* grade - Um índice de 1 a 13, onde 1-3 fica aquém da construção e design de edifícios, 7 tem um nível médio de construção e design e 11-13 tem um alto nível de qualidade de construção e design.\n",
        "* sqft_above - A metragem quadrada do espaço interior da habitação que está acima do nível do solo\n",
        "* sqft_basement - A metragem quadrada do espaço interno da habitação que está abaixo do nível do solo\n",
        "* yr_built - O ano em que a casa foi inicialmente construída\n",
        "* yr_renovated - O ano da última reforma da casa\n",
        "* zipcode - Em que área do código postal a casa está\n",
        "* lat - Latitude\n",
        "* long - Longitude\n",
        "* sqft_living15 - A metragem quadrada do espaço interno da habitação para os 15 vizinhos mais próximos\n",
        "* sqft_lot15 - A metragem quadrada dos terrenos dos 15 vizinhos mais próximos"
      ]
    },
    {
      "cell_type": "code",
      "execution_count": null,
      "metadata": {
        "id": "C6KuJ8pcnwPc"
      },
      "outputs": [],
      "source": [
        "import pandas as pd\n",
        "import numpy as np\n",
        "import matplotlib.pyplot as plt\n",
        "import seaborn as sns"
      ]
    },
    {
      "cell_type": "code",
      "source": [
        "import os\n",
        "from google.colab import drive\n",
        "\n",
        "drive.mount('/content/drive')\n",
        "os.chdir(\"drive/My Drive/Colab Notebooks/IA/21_ANNs\")\n",
        "os.listdir()"
      ],
      "metadata": {
        "id": "oc0NLq9yalgA"
      },
      "execution_count": null,
      "outputs": []
    },
    {
      "cell_type": "code",
      "execution_count": null,
      "metadata": {
        "id": "6kDcYnBsnwPd"
      },
      "outputs": [],
      "source": [
        "df = pd.read_csv('DATA/kc_house_data.csv')"
      ]
    },
    {
      "cell_type": "markdown",
      "metadata": {
        "id": "Bm6GCB9fnwPe"
      },
      "source": [
        "# Análise exploratória de dados"
      ]
    },
    {
      "cell_type": "code",
      "execution_count": null,
      "metadata": {
        "id": "7-k7qKXynwPe"
      },
      "outputs": [],
      "source": [
        "df.isnull().sum()"
      ]
    },
    {
      "cell_type": "code",
      "execution_count": null,
      "metadata": {
        "id": "83VOhHP2nwPf"
      },
      "outputs": [],
      "source": [
        "df.describe().transpose()"
      ]
    },
    {
      "cell_type": "code",
      "execution_count": null,
      "metadata": {
        "id": "IMnEVjaJnwPg"
      },
      "outputs": [],
      "source": [
        "plt.figure(figsize=(12,8))\n",
        "sns.displot(df['price'])"
      ]
    },
    {
      "cell_type": "code",
      "execution_count": null,
      "metadata": {
        "id": "dDPjqSKDnwPg"
      },
      "outputs": [],
      "source": [
        "sns.countplot(x=df['bedrooms'])"
      ]
    },
    {
      "cell_type": "code",
      "execution_count": null,
      "metadata": {
        "id": "eo6lfr3anwPh"
      },
      "outputs": [],
      "source": [
        "plt.figure(figsize=(12,8))\n",
        "sns.scatterplot(x='price',y='sqft_living',data=df)"
      ]
    },
    {
      "cell_type": "code",
      "execution_count": null,
      "metadata": {
        "id": "GOB2ujJKnwPh"
      },
      "outputs": [],
      "source": [
        "sns.boxplot(x='bedrooms',y='price',data=df)"
      ]
    },
    {
      "cell_type": "markdown",
      "metadata": {
        "id": "P3awxqJ2nwPi"
      },
      "source": [
        "### Propriedades Geográficas"
      ]
    },
    {
      "cell_type": "code",
      "execution_count": null,
      "metadata": {
        "id": "uTTur-4RnwPi"
      },
      "outputs": [],
      "source": [
        "plt.figure(figsize=(12,8))\n",
        "sns.scatterplot(x='price',y='long',data=df)"
      ]
    },
    {
      "cell_type": "code",
      "execution_count": null,
      "metadata": {
        "id": "MnAdrssXnwPi"
      },
      "outputs": [],
      "source": [
        "plt.figure(figsize=(12,8))\n",
        "sns.scatterplot(x='price',y='lat',data=df)"
      ]
    },
    {
      "cell_type": "code",
      "execution_count": null,
      "metadata": {
        "id": "dmyPt1BRnwPj"
      },
      "outputs": [],
      "source": [
        "plt.figure(figsize=(12,8))\n",
        "sns.scatterplot(x='long',y='lat',data=df,hue='price')"
      ]
    },
    {
      "cell_type": "code",
      "execution_count": null,
      "metadata": {
        "id": "cnQ_2dnJnwPj"
      },
      "outputs": [],
      "source": [
        "df.sort_values('price',ascending=False).head(20)"
      ]
    },
    {
      "cell_type": "code",
      "execution_count": null,
      "metadata": {
        "id": "9Q8ypnQxnwPk"
      },
      "outputs": [],
      "source": [
        "len(df)*(0.01)"
      ]
    },
    {
      "cell_type": "code",
      "execution_count": null,
      "metadata": {
        "id": "EyNO5Z3vnwPk"
      },
      "outputs": [],
      "source": [
        "non_top_1_perc = df.sort_values('price',ascending=False).iloc[216:]"
      ]
    },
    {
      "cell_type": "code",
      "execution_count": null,
      "metadata": {
        "id": "YJwv2DfPnwPk"
      },
      "outputs": [],
      "source": [
        "plt.figure(figsize=(12,8))\n",
        "sns.scatterplot(x='long',y='lat',\n",
        "                data=non_top_1_perc,hue='price',\n",
        "                palette='RdYlGn',edgecolor=None,alpha=0.2)"
      ]
    },
    {
      "cell_type": "markdown",
      "metadata": {
        "id": "tVocDJKQnwPl"
      },
      "source": [
        "### Outras características"
      ]
    },
    {
      "cell_type": "code",
      "execution_count": null,
      "metadata": {
        "id": "DemjANx8nwPl"
      },
      "outputs": [],
      "source": [
        "sns.boxplot(x='waterfront',y='price',data=df)"
      ]
    },
    {
      "cell_type": "markdown",
      "metadata": {
        "id": "WHDRlCSpnwPl"
      },
      "source": [
        "## Trabalhando com os dados das características"
      ]
    },
    {
      "cell_type": "code",
      "execution_count": null,
      "metadata": {
        "id": "gdS9XsLGnwPm"
      },
      "outputs": [],
      "source": [
        "df.head()"
      ]
    },
    {
      "cell_type": "code",
      "execution_count": null,
      "metadata": {
        "id": "hMUQcQZlnwPm"
      },
      "outputs": [],
      "source": [
        "df.info()"
      ]
    },
    {
      "cell_type": "code",
      "execution_count": null,
      "metadata": {
        "id": "ryyTFyuLnwPm"
      },
      "outputs": [],
      "source": [
        "df = df.drop('id',axis=1)"
      ]
    },
    {
      "cell_type": "code",
      "execution_count": null,
      "metadata": {
        "id": "zv-o6O1xnwPn"
      },
      "outputs": [],
      "source": [
        "df.head()"
      ]
    },
    {
      "cell_type": "markdown",
      "metadata": {
        "id": "7xNIDSMcnwPn"
      },
      "source": [
        "### Feature Engineering from Date"
      ]
    },
    {
      "cell_type": "code",
      "execution_count": null,
      "metadata": {
        "id": "cW9kjIsRnwPn"
      },
      "outputs": [],
      "source": [
        "df['date'] = pd.to_datetime(df['date'])"
      ]
    },
    {
      "cell_type": "code",
      "execution_count": null,
      "metadata": {
        "id": "0pGmH4fonwPo"
      },
      "outputs": [],
      "source": [
        "df['month'] = df['date'].apply(lambda date:date.month)"
      ]
    },
    {
      "cell_type": "code",
      "execution_count": null,
      "metadata": {
        "id": "2tZz2MuWnwPo"
      },
      "outputs": [],
      "source": [
        "df['year'] = df['date'].apply(lambda date:date.year)"
      ]
    },
    {
      "cell_type": "code",
      "execution_count": null,
      "metadata": {
        "id": "jLo2TilhnwPo"
      },
      "outputs": [],
      "source": [
        "sns.boxplot(x='year',y='price',data=df)"
      ]
    },
    {
      "cell_type": "code",
      "execution_count": null,
      "metadata": {
        "id": "Iu9Bq0nZnwPo"
      },
      "outputs": [],
      "source": [
        "sns.boxplot(x='month',y='price',data=df)"
      ]
    },
    {
      "cell_type": "code",
      "execution_count": null,
      "metadata": {
        "id": "-5r68cljnwPp"
      },
      "outputs": [],
      "source": [
        "df.groupby('month').mean()['price'].plot()"
      ]
    },
    {
      "cell_type": "code",
      "execution_count": null,
      "metadata": {
        "id": "HksJ3p-fnwPp"
      },
      "outputs": [],
      "source": [
        "df.groupby('year').mean(numeric_only=True)['price'].plot()"
      ]
    },
    {
      "cell_type": "code",
      "execution_count": null,
      "metadata": {
        "id": "VHLvj-sunwPq"
      },
      "outputs": [],
      "source": [
        "df = df.drop('date',axis=1)"
      ]
    },
    {
      "cell_type": "code",
      "execution_count": null,
      "metadata": {
        "id": "ylqOnxebnwPq"
      },
      "outputs": [],
      "source": [
        "df.columns"
      ]
    },
    {
      "cell_type": "markdown",
      "source": [
        "![Seattle zipcodejpg.jpg](data:image/jpeg;base64,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)"
      ],
      "metadata": {
        "id": "Ey6dAOo7dtmF"
      }
    },
    {
      "cell_type": "code",
      "execution_count": null,
      "metadata": {
        "id": "cXqWeubxnwPq"
      },
      "outputs": [],
      "source": [
        "# Pode valer a pena considerar remover isso\n",
        "df['zipcode'].value_counts()"
      ]
    },
    {
      "cell_type": "code",
      "execution_count": null,
      "metadata": {
        "id": "I-V1MIRZnwPq"
      },
      "outputs": [],
      "source": [
        "df = df.drop('zipcode',axis=1)"
      ]
    },
    {
      "cell_type": "code",
      "execution_count": null,
      "metadata": {
        "id": "R2kHlo2cnwP0"
      },
      "outputs": [],
      "source": [
        "df.head()"
      ]
    },
    {
      "cell_type": "code",
      "execution_count": null,
      "metadata": {
        "id": "L4JiKDA2nwP0"
      },
      "outputs": [],
      "source": [
        "df['yr_renovated'].value_counts()"
      ]
    },
    {
      "cell_type": "code",
      "execution_count": null,
      "metadata": {
        "id": "VxTd-UN_nwP1"
      },
      "outputs": [],
      "source": [
        "df['sqft_basement'].value_counts()"
      ]
    },
    {
      "cell_type": "markdown",
      "metadata": {
        "id": "1ATwHJEAnwP1"
      },
      "source": [
        "## Normalização e train/test split"
      ]
    },
    {
      "cell_type": "code",
      "execution_count": null,
      "metadata": {
        "id": "cYZpvlBknwP1"
      },
      "outputs": [],
      "source": [
        "X = df.drop('price',axis=1)\n",
        "y = df['price']"
      ]
    },
    {
      "cell_type": "code",
      "execution_count": null,
      "metadata": {
        "id": "YRnaHf13nwP2"
      },
      "outputs": [],
      "source": [
        "from sklearn.model_selection import train_test_split"
      ]
    },
    {
      "cell_type": "code",
      "execution_count": null,
      "metadata": {
        "id": "chSvuqncnwP2"
      },
      "outputs": [],
      "source": [
        "X_train, X_test, y_train, y_test = train_test_split(X,y,test_size=0.3,random_state=101)"
      ]
    },
    {
      "cell_type": "markdown",
      "metadata": {
        "id": "y5BulAQ3nwP2"
      },
      "source": [
        "### Normalizando"
      ]
    },
    {
      "cell_type": "code",
      "execution_count": null,
      "metadata": {
        "id": "8VJepav4nwP3"
      },
      "outputs": [],
      "source": [
        "from sklearn.preprocessing import MinMaxScaler"
      ]
    },
    {
      "cell_type": "code",
      "execution_count": null,
      "metadata": {
        "id": "sOYylX9YnwP3"
      },
      "outputs": [],
      "source": [
        "scaler = MinMaxScaler()"
      ]
    },
    {
      "cell_type": "code",
      "execution_count": null,
      "metadata": {
        "id": "ERJm67iLnwP4"
      },
      "outputs": [],
      "source": [
        "X_train= scaler.fit_transform(X_train)"
      ]
    },
    {
      "cell_type": "code",
      "execution_count": null,
      "metadata": {
        "id": "0LJgxupBnwP4"
      },
      "outputs": [],
      "source": [
        "X_test = scaler.transform(X_test)"
      ]
    },
    {
      "cell_type": "code",
      "execution_count": null,
      "metadata": {
        "id": "u8HjWzL-nwP4"
      },
      "outputs": [],
      "source": [
        "X_train.shape"
      ]
    },
    {
      "cell_type": "code",
      "execution_count": null,
      "metadata": {
        "id": "gU-ZE2_InwP5"
      },
      "outputs": [],
      "source": [
        "X_test.shape"
      ]
    },
    {
      "cell_type": "markdown",
      "metadata": {
        "id": "RcWgYuOOnwP6"
      },
      "source": [
        "## Criando um modelo"
      ]
    },
    {
      "cell_type": "code",
      "execution_count": null,
      "metadata": {
        "id": "e2kOJrcGnwP6"
      },
      "outputs": [],
      "source": [
        "from tensorflow.keras.models import Sequential\n",
        "from tensorflow.keras.layers import Dense, Activation\n",
        "from tensorflow.keras.optimizers import Adam"
      ]
    },
    {
      "cell_type": "code",
      "execution_count": null,
      "metadata": {
        "id": "pU_5yawFnwP6"
      },
      "outputs": [],
      "source": [
        "model = Sequential()\n",
        "\n",
        "model.add(Dense(19,activation='relu'))\n",
        "model.add(Dense(19,activation='relu'))\n",
        "model.add(Dense(19,activation='relu'))\n",
        "model.add(Dense(19,activation='relu'))\n",
        "model.add(Dense(1))\n",
        "\n",
        "model.compile(optimizer='adam',loss='mse')"
      ]
    },
    {
      "cell_type": "markdown",
      "metadata": {
        "id": "uDie898vnwP7"
      },
      "source": [
        "## Training the Model"
      ]
    },
    {
      "cell_type": "code",
      "execution_count": null,
      "metadata": {
        "id": "ppzu-B07nwP7"
      },
      "outputs": [],
      "source": [
        "model.fit(x=X_train,y=y_train.values,\n",
        "          validation_data=(X_test,y_test.values),\n",
        "          batch_size=128,epochs=400)"
      ]
    },
    {
      "cell_type": "code",
      "execution_count": null,
      "metadata": {
        "id": "YDN9kj5ynwP7"
      },
      "outputs": [],
      "source": [
        "losses = pd.DataFrame(model.history.history)"
      ]
    },
    {
      "cell_type": "code",
      "execution_count": null,
      "metadata": {
        "id": "14zWQ5HrnwP8"
      },
      "outputs": [],
      "source": [
        "losses.plot()"
      ]
    },
    {
      "cell_type": "markdown",
      "metadata": {
        "id": "KbLtUyxKnwP8"
      },
      "source": [
        "# Avaliação nos dados de teste\n",
        "\n",
        "https://scikit-learn.org/stable/modules/model_evaluation.html#regression-metrics"
      ]
    },
    {
      "cell_type": "code",
      "execution_count": null,
      "metadata": {
        "id": "SJSuDH91nwP8"
      },
      "outputs": [],
      "source": [
        "from sklearn.metrics import mean_squared_error,mean_absolute_error,explained_variance_score"
      ]
    },
    {
      "cell_type": "markdown",
      "metadata": {
        "id": "g1iwCFBXnwP9"
      },
      "source": [
        "#### Prevendo em dados novos"
      ]
    },
    {
      "cell_type": "code",
      "execution_count": null,
      "metadata": {
        "id": "dcsPBvqZnwP9"
      },
      "outputs": [],
      "source": [
        "X_test"
      ]
    },
    {
      "cell_type": "code",
      "execution_count": null,
      "metadata": {
        "id": "horC-tZFnwP-"
      },
      "outputs": [],
      "source": [
        "predictions = model.predict(X_test)"
      ]
    },
    {
      "cell_type": "code",
      "execution_count": null,
      "metadata": {
        "id": "zzYJUMv0nwP-"
      },
      "outputs": [],
      "source": [
        "mean_absolute_error(y_test,predictions)"
      ]
    },
    {
      "cell_type": "code",
      "execution_count": null,
      "metadata": {
        "id": "1i1ozE3FnwP-"
      },
      "outputs": [],
      "source": [
        "np.sqrt(mean_squared_error(y_test,predictions))"
      ]
    },
    {
      "cell_type": "code",
      "execution_count": null,
      "metadata": {
        "id": "cJobnx4jnwP_"
      },
      "outputs": [],
      "source": [
        "explained_variance_score(y_test,predictions)"
      ]
    },
    {
      "cell_type": "code",
      "execution_count": null,
      "metadata": {
        "id": "6zivqhdnnwP_"
      },
      "outputs": [],
      "source": [
        "df['price'].mean()"
      ]
    },
    {
      "cell_type": "code",
      "execution_count": null,
      "metadata": {
        "id": "H1X4E2pSnwQA"
      },
      "outputs": [],
      "source": [
        "df['price'].median()"
      ]
    },
    {
      "cell_type": "code",
      "execution_count": null,
      "metadata": {
        "id": "E2l_BAcRnwQA"
      },
      "outputs": [],
      "source": [
        "# Nossas previsões\n",
        "plt.scatter(y_test,predictions)\n",
        "\n",
        "# Previsões perfeitas\n",
        "plt.plot(y_test,y_test,'r')"
      ]
    },
    {
      "cell_type": "code",
      "execution_count": null,
      "metadata": {
        "id": "jkCM_AeHnwQA"
      },
      "outputs": [],
      "source": [
        "errors = y_test.values.reshape(6480, 1) - predictions"
      ]
    },
    {
      "cell_type": "code",
      "execution_count": null,
      "metadata": {
        "id": "V2l-JCV1nwQB"
      },
      "outputs": [],
      "source": [
        "sns.displot(errors)"
      ]
    },
    {
      "cell_type": "markdown",
      "metadata": {
        "id": "iIOBuu4dnwQB"
      },
      "source": [
        "### Prevendo em uma casa nova"
      ]
    },
    {
      "cell_type": "code",
      "execution_count": null,
      "metadata": {
        "id": "tV0zJSienwQB"
      },
      "outputs": [],
      "source": [
        "single_house = df.drop('price',axis=1).iloc[0]"
      ]
    },
    {
      "cell_type": "code",
      "source": [
        "single_house"
      ],
      "metadata": {
        "id": "OUFHcVUeynHE"
      },
      "execution_count": null,
      "outputs": []
    },
    {
      "cell_type": "code",
      "execution_count": null,
      "metadata": {
        "id": "L6CSu2YtnwQC"
      },
      "outputs": [],
      "source": [
        "single_house = scaler.transform(single_house.values.reshape(-1, 19))"
      ]
    },
    {
      "cell_type": "code",
      "execution_count": null,
      "metadata": {
        "id": "rWZzmczEnwQC"
      },
      "outputs": [],
      "source": [
        "single_house"
      ]
    },
    {
      "cell_type": "code",
      "execution_count": null,
      "metadata": {
        "id": "ZenU7FcGnwQC"
      },
      "outputs": [],
      "source": [
        "model.predict(single_house)"
      ]
    },
    {
      "cell_type": "code",
      "execution_count": null,
      "metadata": {
        "id": "EJJm4VMMnwQD"
      },
      "outputs": [],
      "source": [
        "df.iloc[0]"
      ]
    }
  ],
  "metadata": {
    "kernelspec": {
      "display_name": "Python 3",
      "language": "python",
      "name": "python3"
    },
    "language_info": {
      "codemirror_mode": {
        "name": "ipython",
        "version": 3
      },
      "file_extension": ".py",
      "mimetype": "text/x-python",
      "name": "python",
      "nbconvert_exporter": "python",
      "pygments_lexer": "ipython3",
      "version": "3.7.4"
    },
    "colab": {
      "provenance": [],
      "include_colab_link": true
    }
  },
  "nbformat": 4,
  "nbformat_minor": 0
}